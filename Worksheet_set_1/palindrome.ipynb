{
 "cells": [
  {
   "cell_type": "code",
   "execution_count": 10,
   "id": "b71edaaa",
   "metadata": {},
   "outputs": [
    {
     "name": "stdout",
     "output_type": "stream",
     "text": [
      "Enter a string:malayalam\n",
      "malayalam  is a Palindrome\n"
     ]
    }
   ],
   "source": [
    "string = input(\"Enter a string:\")\n",
    "rev_string = reversed(string)\n",
    "\n",
    " \n",
    "if list(string) == list(rev_string):\n",
    "    print(string, \" is a Palindrome\")\n",
    "else:\n",
    "    print(string, \" is not a Palindrome\")"
   ]
  }
 ],
 "metadata": {
  "kernelspec": {
   "display_name": "Python 3 (ipykernel)",
   "language": "python",
   "name": "python3"
  },
  "language_info": {
   "codemirror_mode": {
    "name": "ipython",
    "version": 3
   },
   "file_extension": ".py",
   "mimetype": "text/x-python",
   "name": "python",
   "nbconvert_exporter": "python",
   "pygments_lexer": "ipython3",
   "version": "3.9.12"
  }
 },
 "nbformat": 4,
 "nbformat_minor": 5
}
