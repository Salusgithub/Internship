{
 "cells": [
  {
   "cell_type": "code",
   "execution_count": 2,
   "id": "e01153d8",
   "metadata": {},
   "outputs": [
    {
     "name": "stdout",
     "output_type": "stream",
     "text": [
      "Enter opposite side :2\n",
      "Enter adjacent side :\n",
      "Enter hypotenuse :3\n",
      "opposite side :  2\n",
      "adjacent side :  2.23606797749979\n",
      "hypotenuse :  3\n"
     ]
    }
   ],
   "source": [
    "op_side = input(\"Enter opposite side :\")\n",
    "ad_side = input(\"Enter adjacent side :\")\n",
    "hypotenuse = input(\"Enter hypotenuse :\")\n",
    "\n",
    "\n",
    "if op_side != \"\":\n",
    "    op_side = int(op_side)\n",
    "if ad_side != \"\":\n",
    "    ad_side = int(ad_side)\n",
    "if hypotenuse != \"\":\n",
    "    hypotenuse = int(hypotenuse)\n",
    "\n",
    "if op_side == \"\":\n",
    "    op_side = ((hypotenuse**2) - (ad_side**2))**0.5\n",
    "if ad_side == \"\":\n",
    "    ad_side = ((hypotenuse**2) - (op_side**2))**0.5\n",
    "if hypotenuse == \"\":\n",
    "    hypotenuse = ((op_side**2) + (ad_side**2))**0.5\n",
    "        \n",
    "print(\"opposite side : \", op_side)\n",
    "print(\"adjacent side : \", ad_side)\n",
    "print(\"hypotenuse : \", hypotenuse)"
   ]
  }
 ],
 "metadata": {
  "kernelspec": {
   "display_name": "Python 3 (ipykernel)",
   "language": "python",
   "name": "python3"
  },
  "language_info": {
   "codemirror_mode": {
    "name": "ipython",
    "version": 3
   },
   "file_extension": ".py",
   "mimetype": "text/x-python",
   "name": "python",
   "nbconvert_exporter": "python",
   "pygments_lexer": "ipython3",
   "version": "3.9.12"
  }
 },
 "nbformat": 4,
 "nbformat_minor": 5
}
